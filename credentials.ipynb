API_KEY = "I6fZIQiiDsMKYBEbFMt0Xh2nL"
API_SECRET_KEY = "pRXCiv4qfuoEZqM7y23Xvvh1ZbdHPzUMimxfdZq6ChyhzseRRJ"

# After the step above, you will be redirected to your app's page.
# Create an access token under the the "Your access token" section
ACCESS_TOEKN = "390663782-AvhPz6EqjaVENaJjcUbHSrmqFTAdRdrxjdDNsl0O"
ACCESS_TOKEN_SECRET = "3g7UNiRAs46ELcMF1vdN4dgPzcFv0q1xKrGztJjqsqprv"
